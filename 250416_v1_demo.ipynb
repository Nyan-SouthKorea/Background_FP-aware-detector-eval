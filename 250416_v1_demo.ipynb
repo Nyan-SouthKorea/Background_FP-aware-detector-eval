{
 "cells": [
  {
   "cell_type": "code",
   "execution_count": 3,
   "metadata": {},
   "outputs": [],
   "source": [
    "from main import Eval_Object_Detector\n",
    "\n",
    "path = '/data2/iena/241030_SKMagic_YOLO/1_preprocess'\n",
    "path_main = f'{path}/8_기타 테스트/250411_PR계산 구현/Object_Detector_Evaluation'\n",
    "\n",
    "\n",
    "path_gt = f'{path}/8_기타 테스트/250411_PR계산 구현/test_data/gt'\n",
    "path_pred = f'{path}/8_기타 테스트/250411_PR계산 구현/test_data/pred'\n",
    "class_list = ['cable', 'carpet', 'clothes', 'obstacle', 'poop']\n",
    "path_output = f'{path_main}/output'\n",
    "\n",
    "path_img = f'{path}/8_기타 테스트/250411_PR계산 구현/test_data/images'"
   ]
  },
  {
   "cell_type": "code",
   "execution_count": 2,
   "metadata": {},
   "outputs": [
    {
     "name": "stdout",
     "output_type": "stream",
     "text": [
      "코드 릴리즈 날짜: 250416_v1\n",
      "evaluate() 이용 시 전체적인 평가가 가능합니다.\n",
      "1회 평가 이후 draw_bgfp_auto(path_img) 이용 시 Background FP에 대한 사례들을 그려볼 수 있습니다.\n",
      "\n"
     ]
    },
    {
     "name": "stderr",
     "output_type": "stream",
     "text": [
      "get annotation(pred 불러오는 중): 100%|██████████| 5224/5224 [00:00<00:00, 25029.04it/s]\n",
      "get annotation(gt 불러오는 중): 100%|██████████| 5224/5224 [00:00<00:00, 87095.47it/s]\n",
      "Precision, Recall 계산 중...: 100%|██████████| 1000/1000 [00:14<00:00, 70.64it/s]\n"
     ]
    },
    {
     "name": "stdout",
     "output_type": "stream",
     "text": [
      "Confusion Matrix saved to: /data2/iena/241030_SKMagic_YOLO/1_preprocess/8_기타 테스트/250411_PR계산 구현/Object_Detector_Evaluation/output/Confusion_Matrix.png\n"
     ]
    },
    {
     "name": "stderr",
     "output_type": "stream",
     "text": [
      "mAP@0.5:0.95 계산 중...: 100%|██████████| 10/10 [02:33<00:00, 15.40s/it]"
     ]
    },
    {
     "name": "stdout",
     "output_type": "stream",
     "text": [
      "\n",
      "=== Evaluation Results ===\n",
      "\n",
      "   Class  Images  Labels        P        R  mAP@.5  mAP@.5:.95  F1_score  Conf. Thr.\n",
      "     all    5224    4073    0.685    0.671   0.669       0.506     0.668       0.352\n",
      "   cable     638     688    0.935    0.671   0.813       0.562     0.781       0.513\n",
      "  carpet     724     724    0.818    0.802   0.815       0.744     0.810       0.314\n",
      " clothes     278     278    0.530    0.791   0.687       0.603     0.635       0.440\n",
      "obstacle    2039    2261    0.706    0.633   0.657       0.415     0.668       0.251\n",
      "    poop     122     122    0.438    0.459   0.375       0.204     0.448       0.241\n",
      "\n",
      "CSV saved to: /data2/iena/241030_SKMagic_YOLO/1_preprocess/8_기타 테스트/250411_PR계산 구현/Object_Detector_Evaluation/output/evaluation_summary.csv\n"
     ]
    },
    {
     "name": "stderr",
     "output_type": "stream",
     "text": [
      "\n"
     ]
    }
   ],
   "source": [
    "mAP = Eval_Object_Detector(path_gt, path_pred, class_list, path_output)\n",
    "mAP.evaluate()"
   ]
  },
  {
   "cell_type": "code",
   "execution_count": 4,
   "metadata": {},
   "outputs": [
    {
     "name": "stderr",
     "output_type": "stream",
     "text": [
      "100%|██████████| 9/9 [02:07<00:00, 14.15s/it]\n"
     ]
    }
   ],
   "source": [
    "mAP.draw_bgfp_auto(path_img)"
   ]
  }
 ],
 "metadata": {
  "kernelspec": {
   "display_name": "aug",
   "language": "python",
   "name": "python3"
  },
  "language_info": {
   "codemirror_mode": {
    "name": "ipython",
    "version": 3
   },
   "file_extension": ".py",
   "mimetype": "text/x-python",
   "name": "python",
   "nbconvert_exporter": "python",
   "pygments_lexer": "ipython3",
   "version": "3.12.7"
  }
 },
 "nbformat": 4,
 "nbformat_minor": 2
}
