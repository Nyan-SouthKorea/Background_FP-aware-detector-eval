{
 "cells": [
  {
   "cell_type": "code",
   "execution_count": 1,
   "metadata": {},
   "outputs": [],
   "source": [
    "from main import Eval_Object_Detector\n",
    "\n",
    "path = '/data2/iena/241030_SKMagic_YOLO/1_preprocess'\n",
    "path_main = f'{path}/8_기타 테스트/250411_PR계산 구현/Object_Detector_Evaluation'\n",
    "\n",
    "\n",
    "path_gt = f'{path}/8_기타 테스트/250411_PR계산 구현/test_data2/gt'\n",
    "path_pred = f'{path}/8_기타 테스트/250411_PR계산 구현/test_data2/pred'\n",
    "path_output = f'{path}/8_기타 테스트/250411_PR계산 구현/test_data2/output'\n",
    "\n",
    "path_img = f'{path}/8_기타 테스트/250411_PR계산 구현/test_data2/images'\n",
    "\n",
    "class_list = ['cable', 'carpet', 'clothes', 'obstacle', 'poop']"
   ]
  },
  {
   "cell_type": "code",
   "execution_count": 2,
   "metadata": {},
   "outputs": [
    {
     "name": "stdout",
     "output_type": "stream",
     "text": [
      "코드 릴리즈 날짜: 250416_v1\n",
      "evaluate() 이용 시 전체적인 평가가 가능합니다.\n",
      "1회 평가 이후 draw_bgfp_auto(path_img) 이용 시 Background FP에 대한 사례들을 그려볼 수 있습니다.\n",
      "\n"
     ]
    },
    {
     "name": "stderr",
     "output_type": "stream",
     "text": [
      "get annotation(pred 불러오는 중): 100%|██████████| 5224/5224 [00:00<00:00, 22341.04it/s]\n",
      "get annotation(gt 불러오는 중): 100%|██████████| 5224/5224 [00:00<00:00, 80342.34it/s]\n",
      "Precision, Recall 계산 중...: 100%|██████████| 1000/1000 [00:14<00:00, 70.39it/s]\n"
     ]
    },
    {
     "name": "stdout",
     "output_type": "stream",
     "text": [
      "Confusion Matrix saved to: /data2/iena/241030_SKMagic_YOLO/1_preprocess/8_기타 테스트/250411_PR계산 구현/test_data2/output/Confusion_Matrix.png\n"
     ]
    },
    {
     "name": "stderr",
     "output_type": "stream",
     "text": [
      "mAP@0.5:0.95 계산 중...: 100%|██████████| 10/10 [02:38<00:00, 15.86s/it]"
     ]
    },
    {
     "name": "stdout",
     "output_type": "stream",
     "text": [
      "\n",
      "=== Evaluation Results ===\n",
      "\n",
      "   Class  Images  Labels        P        R  mAP@.5  mAP@.5:.95  F1_score  Conf. Thr.\n",
      "     all    5224    3838    0.807    0.655   0.661       0.481     0.713       0.427\n",
      "   cable     622     664    0.868    0.644   0.736       0.468     0.739       0.361\n",
      "  carpet     718     718    0.967    0.826   0.902       0.815     0.891       0.410\n",
      " clothes     278     278    0.973    0.518   0.582       0.494     0.676       0.732\n",
      "obstacle    1929    2056    0.704    0.754   0.692       0.413     0.728       0.375\n",
      "    poop     122     122    0.524    0.533   0.395       0.212     0.528       0.257\n",
      "\n",
      "CSV saved to: /data2/iena/241030_SKMagic_YOLO/1_preprocess/8_기타 테스트/250411_PR계산 구현/test_data2/output/evaluation_summary.csv\n"
     ]
    },
    {
     "name": "stderr",
     "output_type": "stream",
     "text": [
      "\n"
     ]
    }
   ],
   "source": [
    "mAP = Eval_Object_Detector(path_gt, path_pred, class_list, path_output)\n",
    "mAP.evaluate()"
   ]
  },
  {
   "cell_type": "code",
   "execution_count": null,
   "metadata": {},
   "outputs": [],
   "source": [
    "mAP.draw_bgfp_auto(path_img)"
   ]
  }
 ],
 "metadata": {
  "kernelspec": {
   "display_name": "aug",
   "language": "python",
   "name": "python3"
  },
  "language_info": {
   "codemirror_mode": {
    "name": "ipython",
    "version": 3
   },
   "file_extension": ".py",
   "mimetype": "text/x-python",
   "name": "python",
   "nbconvert_exporter": "python",
   "pygments_lexer": "ipython3",
   "version": "3.12.7"
  }
 },
 "nbformat": 4,
 "nbformat_minor": 2
}
